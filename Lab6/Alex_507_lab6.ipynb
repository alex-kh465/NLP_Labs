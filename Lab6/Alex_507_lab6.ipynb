{
 "cells": [
  {
   "cell_type": "code",
   "execution_count": 6,
   "metadata": {},
   "outputs": [
    {
     "name": "stderr",
     "output_type": "stream",
     "text": [
      "[nltk_data] Downloading package punkt to\n",
      "[nltk_data]     C:\\Users\\Aspire_Lays\\AppData\\Roaming\\nltk_data...\n",
      "[nltk_data]   Package punkt is already up-to-date!\n"
     ]
    },
    {
     "data": {
      "text/plain": [
       "['intent_classifier.pkl']"
      ]
     },
     "execution_count": 6,
     "metadata": {},
     "output_type": "execute_result"
    }
   ],
   "source": [
    "import pandas as pd\n",
    "import spacy\n",
    "import nltk\n",
    "import joblib\n",
    "from sklearn.feature_extraction.text import TfidfVectorizer\n",
    "from sklearn.svm import SVC\n",
    "from sklearn.pipeline import make_pipeline\n",
    "from sklearn.model_selection import train_test_split\n",
    "\n",
    "# Load NLP Model\n",
    "nlp = spacy.load(\"en_core_web_sm\")\n",
    "nltk.download(\"punkt\")\n",
    "\n",
    "# Load Dataset\n",
    "df = pd.read_csv(\"history_intent.csv\")\n",
    "\n",
    "# Split into train & test\n",
    "X_train, X_test, y_train, y_test = train_test_split(df[\"text\"], df[\"intent\"], test_size=0.2, random_state=42)\n",
    "\n",
    "# TF-IDF Vectorizer + SVM Model\n",
    "model = make_pipeline(TfidfVectorizer(), SVC(kernel=\"linear\"))\n",
    "model.fit(X_train, y_train)\n",
    "\n",
    "# Save the model\n",
    "joblib.dump(model, \"intent_classifier.pkl\")\n"
   ]
  },
  {
   "cell_type": "code",
   "execution_count": 7,
   "metadata": {},
   "outputs": [],
   "source": [
    "import joblib\n",
    "import random\n",
    "\n",
    "# Load Intent Classifier\n",
    "intent_model = joblib.load(\"intent_classifier.pkl\")\n",
    "\n",
    "# Knowledge Base\n",
    "HISTORY_RESPONSES = {\n",
    "    \"history_event\": {\n",
    "        \"world war 2\": \"World War II lasted from 1939 to 1945, involving major world powers like the USA, Germany, and the Soviet Union.\",\n",
    "        \"cold war\": \"The Cold War (1947-1991) was a geopolitical tension between the USA and USSR.\",\n",
    "        \"french revolution\": \"The French Revolution (1789-1799) led to radical social and political change in France.\"\n",
    "    },\n",
    "    \"example_request\": \"Here's an example: The fall of the Roman Empire in 476 AD led to the Middle Ages.\",\n",
    "    \"history_summary\": \"History is full of key moments, like the Industrial Revolution and the rise of democracy.\",\n",
    "    \"historical_figure\": \"Napoleon was a French military leader who rose to power during the French Revolution.\"\n",
    "}\n",
    "\n",
    "# Generate a Response\n",
    "def generate_response(user_input):\n",
    "    \"\"\" Classify intent and generate a response \"\"\"\n",
    "    intent = intent_model.predict([user_input])[0]\n",
    "\n",
    "    if intent == \"history_event\":\n",
    "        for key in HISTORY_RESPONSES[\"history_event\"]:\n",
    "            if key in user_input.lower():\n",
    "                return HISTORY_RESPONSES[\"history_event\"][key]\n",
    "        return \"I can discuss historical events like World War 2, the Cold War, or the French Revolution.\"\n",
    "\n",
    "    return HISTORY_RESPONSES.get(intent, \"I'm not sure, but I can try to help!\")\n"
   ]
  },
  {
   "cell_type": "code",
   "execution_count": 10,
   "metadata": {},
   "outputs": [],
   "source": [
    "def analyze_discourse(user_input):\n",
    "    \"\"\" Perform discourse analysis with Named Entity Recognition (NER) \"\"\"\n",
    "    doc = nlp(user_input)\n",
    "\n",
    "    # Extract named entities (historical events, persons, dates)\n",
    "    entities = [ent.text for ent in doc.ents if ent.label_ in (\"EVENT\", \"DATE\", \"PERSON\", \"ORG\")]\n",
    "\n",
    "    # Extract subjects and objects based on dependency parsing\n",
    "    subjects = [token.text for token in doc if token.dep_ in (\"nsubj\", \"nsubjpass\")]\n",
    "    objects = [token.text for token in doc if token.dep_ in (\"dobj\", \"pobj\")]\n",
    "\n",
    "    # If named entities are found, they should be considered as subjects\n",
    "    if entities:\n",
    "        subjects.extend(entities)\n",
    "\n",
    "    return {\"subjects\": list(set(subjects)), \"objects\": list(set(objects))}\n"
   ]
  },
  {
   "cell_type": "code",
   "execution_count": 12,
   "metadata": {},
   "outputs": [
    {
     "name": "stdout",
     "output_type": "stream",
     "text": [
      "{'subjects': ['World War 2'], 'objects': ['me', 'War']}\n",
      "{'subjects': ['the French Revolution'], 'objects': ['causes', 'Revolution']}\n",
      "{'subjects': ['Napoleon'], 'objects': []}\n"
     ]
    }
   ],
   "source": [
    "print(analyze_discourse(\"Tell me about World War 2 and its impact.\"))\n",
    "\n",
    "\n",
    "print(analyze_discourse(\"Explain the causes of the French Revolution.\"))\n",
    "\n",
    "\n",
    "print(analyze_discourse(\"Who was Napoleon?\"))\n",
    "\n"
   ]
  }
 ],
 "metadata": {
  "kernelspec": {
   "display_name": "torch",
   "language": "python",
   "name": "python3"
  },
  "language_info": {
   "codemirror_mode": {
    "name": "ipython",
    "version": 3
   },
   "file_extension": ".py",
   "mimetype": "text/x-python",
   "name": "python",
   "nbconvert_exporter": "python",
   "pygments_lexer": "ipython3",
   "version": "3.10.16"
  }
 },
 "nbformat": 4,
 "nbformat_minor": 2
}
