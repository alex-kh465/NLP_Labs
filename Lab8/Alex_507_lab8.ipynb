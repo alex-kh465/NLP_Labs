{
 "cells": [
  {
   "cell_type": "code",
   "execution_count": 8,
   "metadata": {},
   "outputs": [
    {
     "name": "stderr",
     "output_type": "stream",
     "text": [
      "[nltk_data] Downloading package punkt_tab to\n",
      "[nltk_data]     C:\\Users\\Aspire_Lays/nltk_data...\n",
      "[nltk_data]   Unzipping tokenizers\\punkt_tab.zip.\n"
     ]
    },
    {
     "data": {
      "text/plain": [
       "True"
      ]
     },
     "execution_count": 8,
     "metadata": {},
     "output_type": "execute_result"
    }
   ],
   "source": [
    "import nltk\n",
    "import numpy as np\n",
    "from sklearn.feature_extraction.text import TfidfVectorizer\n",
    "from sklearn.metrics.pairwise import cosine_similarity\n",
    "\n",
    "# Ensure you have the required NLTK resources\n",
    "nltk.download('punkt_tab')\n"
   ]
  },
  {
   "cell_type": "code",
   "execution_count": 9,
   "metadata": {},
   "outputs": [],
   "source": [
    "# Define the context\n",
    "context = \"\"\"\n",
    "CHRIST (Deemed to be University) was born out of the educational vision of St Kuriakose Elias Chavara, \n",
    "an educationalist and social reformer of the nineteenth century in South India. He founded the first \n",
    "Catholic indigenous congregation, Carmelites of Mary Immaculate (CMI), in 1831 which administers \n",
    "CHRIST (Deemed to be University). CHRIST (Deemed to be University) was established as ‘Christ College’ \n",
    "in 1969. It undertook path-breaking initiatives in Indian higher education with the introduction of \n",
    "innovative and modern curricula, insistence on academic discipline, imparting of Holistic Education \n",
    "and adoption of global higher education practices with the support of creative and dedicated staff.\n",
    "\"\"\"\n"
   ]
  },
  {
   "cell_type": "code",
   "execution_count": 10,
   "metadata": {},
   "outputs": [],
   "source": [
    "# Split the context into sentences\n",
    "sentences = nltk.sent_tokenize(context)"
   ]
  },
  {
   "cell_type": "code",
   "execution_count": 12,
   "metadata": {},
   "outputs": [
    {
     "data": {
      "text/plain": [
       "['\\nCHRIST (Deemed to be University) was born out of the educational vision of St Kuriakose Elias Chavara, \\nan educationalist and social reformer of the nineteenth century in South India.',\n",
       " 'He founded the first \\nCatholic indigenous congregation, Carmelites of Mary Immaculate (CMI), in 1831 which administers \\nCHRIST (Deemed to be University).',\n",
       " 'CHRIST (Deemed to be University) was established as ‘Christ College’ \\nin 1969.',\n",
       " 'It undertook path-breaking initiatives in Indian higher education with the introduction of \\ninnovative and modern curricula, insistence on academic discipline, imparting of Holistic Education \\nand adoption of global higher education practices with the support of creative and dedicated staff.']"
      ]
     },
     "execution_count": 12,
     "metadata": {},
     "output_type": "execute_result"
    }
   ],
   "source": [
    "sentences"
   ]
  },
  {
   "cell_type": "code",
   "execution_count": 11,
   "metadata": {},
   "outputs": [],
   "source": [
    "# Define the questions\n",
    "questions = [\n",
    "    \"Who was the educational visionary behind CHRIST (Deemed to be University)?\",\n",
    "    \"What congregation did St Kuriakose Elias Chavara establish in 1831?\",\n",
    "    \"In which year was CHRIST (Deemed to be University) originally established as 'Christ College'?\",\n",
    "    \"What were some of the path-breaking initiatives taken by the university in Indian higher education?\",\n",
    "    \"How did the university ensure the adoption of global higher education practices?\"\n",
    "]"
   ]
  },
  {
   "cell_type": "code",
   "execution_count": 13,
   "metadata": {},
   "outputs": [],
   "source": [
    "\n",
    "# Initialize TF-IDF Vectorizer\n",
    "vectorizer = TfidfVectorizer()\n",
    "\n",
    "# Fit and transform the sentences\n",
    "sentence_vectors = vectorizer.fit_transform(sentences)\n"
   ]
  },
  {
   "cell_type": "code",
   "execution_count": 14,
   "metadata": {},
   "outputs": [
    {
     "name": "stdout",
     "output_type": "stream",
     "text": [
      "Q: Who was the educational visionary behind CHRIST (Deemed to be University)?\n",
      "A: CHRIST (Deemed to be University) was established as ‘Christ College’ \n",
      "in 1969.\n",
      "\n",
      "Q: What congregation did St Kuriakose Elias Chavara establish in 1831?\n",
      "A: \n",
      "CHRIST (Deemed to be University) was born out of the educational vision of St Kuriakose Elias Chavara, \n",
      "an educationalist and social reformer of the nineteenth century in South India.\n",
      "\n",
      "Q: In which year was CHRIST (Deemed to be University) originally established as 'Christ College'?\n",
      "A: CHRIST (Deemed to be University) was established as ‘Christ College’ \n",
      "in 1969.\n",
      "\n",
      "Q: What were some of the path-breaking initiatives taken by the university in Indian higher education?\n",
      "A: It undertook path-breaking initiatives in Indian higher education with the introduction of \n",
      "innovative and modern curricula, insistence on academic discipline, imparting of Holistic Education \n",
      "and adoption of global higher education practices with the support of creative and dedicated staff.\n",
      "\n",
      "Q: How did the university ensure the adoption of global higher education practices?\n",
      "A: It undertook path-breaking initiatives in Indian higher education with the introduction of \n",
      "innovative and modern curricula, insistence on academic discipline, imparting of Holistic Education \n",
      "and adoption of global higher education practices with the support of creative and dedicated staff.\n",
      "\n"
     ]
    }
   ],
   "source": [
    "\n",
    "\n",
    "# Answer extraction using cosine similarity\n",
    "answers = {}\n",
    "for question in questions:\n",
    "    question_vector = vectorizer.transform([question])  # Vectorize the question\n",
    "    similarities = cosine_similarity(question_vector, sentence_vectors).flatten()\n",
    "    best_sentence_index = np.argmax(similarities)  # Find the most relevant sentence\n",
    "    answers[question] = sentences[best_sentence_index]  # Store the best matching sentence\n",
    "\n",
    "# Print the answers\n",
    "for question, answer in answers.items():\n",
    "    print(f\"Q: {question}\\nA: {answer}\\n\")\n"
   ]
  },
  {
   "cell_type": "code",
   "execution_count": 20,
   "metadata": {},
   "outputs": [],
   "source": [
    "import torch\n",
    "from transformers import BertForQuestionAnswering, BertTokenizer\n",
    "\n",
    "# Load pre-trained model and tokenizer from Hugging Face\n",
    "model_name = \"bert-large-uncased-whole-word-masking-finetuned-squad\""
   ]
  },
  {
   "cell_type": "code",
   "execution_count": 21,
   "metadata": {},
   "outputs": [
    {
     "name": "stderr",
     "output_type": "stream",
     "text": [
      "Some weights of the model checkpoint at bert-large-uncased-whole-word-masking-finetuned-squad were not used when initializing BertForQuestionAnswering: ['bert.pooler.dense.bias', 'bert.pooler.dense.weight']\n",
      "- This IS expected if you are initializing BertForQuestionAnswering from the checkpoint of a model trained on another task or with another architecture (e.g. initializing a BertForSequenceClassification model from a BertForPreTraining model).\n",
      "- This IS NOT expected if you are initializing BertForQuestionAnswering from the checkpoint of a model that you expect to be exactly identical (initializing a BertForSequenceClassification model from a BertForSequenceClassification model).\n"
     ]
    }
   ],
   "source": [
    "\n",
    "model = BertForQuestionAnswering.from_pretrained(model_name)\n",
    "tokenizer = BertTokenizer.from_pretrained(model_name)\n"
   ]
  },
  {
   "cell_type": "code",
   "execution_count": 22,
   "metadata": {},
   "outputs": [],
   "source": [
    "\n",
    "# Context and question\n",
    "context = \"\"\"\n",
    "CHRIST (Deemed to be University) was born out of the educational vision of St Kuriakose Elias Chavara, an educationalist and social reformer of the nineteenth century in South India. \n",
    "He founded the first Catholic indigenous congregation, Carmelites of Mary Immaculate (CMI), in 1831 which administers CHRIST (Deemed to be University). \n",
    "“CHRIST (Deemed to be University) was established as ‘Christ College’ in 1969. \n",
    "It undertook path-breaking initiatives in Indian higher education with the introduction of innovative and modern curricula, insistence on academic discipline, imparting of Holistic Education, and adoption of global higher education practices with the support of creative and dedicated staff.\n",
    "\"\"\"\n",
    "question = \"Who was the educational visionary behind CHRIST (Deemed to be University)?\"\n"
   ]
  },
  {
   "cell_type": "code",
   "execution_count": 23,
   "metadata": {},
   "outputs": [],
   "source": [
    "# Tokenize the context and question\n",
    "inputs = tokenizer.encode_plus(question, context, add_special_tokens=True, return_tensors=\"pt\")"
   ]
  },
  {
   "cell_type": "code",
   "execution_count": 24,
   "metadata": {},
   "outputs": [],
   "source": [
    "# Get the start and end token positions for the answer\n",
    "with torch.no_grad():\n",
    "    output = model(**inputs)\n",
    "\n",
    "start_position = output.start_logits.argmax()\n",
    "end_position = output.end_logits.argmax()\n"
   ]
  },
  {
   "cell_type": "code",
   "execution_count": 25,
   "metadata": {},
   "outputs": [],
   "source": [
    "# Convert token indices back to words\n",
    "answer_tokens = inputs[\"input_ids\"][0][start_position:end_position + 1]\n",
    "answer = tokenizer.decode(answer_tokens)\n"
   ]
  },
  {
   "cell_type": "code",
   "execution_count": 26,
   "metadata": {},
   "outputs": [
    {
     "name": "stdout",
     "output_type": "stream",
     "text": [
      "Answer: st kuriakose elias chavara\n"
     ]
    }
   ],
   "source": [
    "\n",
    "# Print the answer\n",
    "print(\"Answer:\", answer)"
   ]
  }
 ],
 "metadata": {
  "kernelspec": {
   "display_name": "torch",
   "language": "python",
   "name": "python3"
  },
  "language_info": {
   "codemirror_mode": {
    "name": "ipython",
    "version": 3
   },
   "file_extension": ".py",
   "mimetype": "text/x-python",
   "name": "python",
   "nbconvert_exporter": "python",
   "pygments_lexer": "ipython3",
   "version": "3.10.16"
  }
 },
 "nbformat": 4,
 "nbformat_minor": 2
}
