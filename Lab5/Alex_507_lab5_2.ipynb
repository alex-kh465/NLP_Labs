{
 "cells": [
  {
   "cell_type": "code",
   "execution_count": 9,
   "metadata": {},
   "outputs": [],
   "source": [
    "import numpy as np\n",
    "import pandas as pd\n",
    "import tensorflow as tf\n",
    "from tensorflow.keras.preprocessing.text import Tokenizer\n",
    "from tensorflow.keras.preprocessing.sequence import pad_sequences\n",
    "from tensorflow.keras.models import Sequential\n",
    "from tensorflow.keras.layers import Embedding, SimpleRNN, Dense\n",
    "from sklearn.model_selection import train_test_split\n",
    "from sklearn.metrics import classification_report,accuracy_score\n"
   ]
  },
  {
   "cell_type": "code",
   "execution_count": 2,
   "metadata": {},
   "outputs": [
    {
     "name": "stderr",
     "output_type": "stream",
     "text": [
      "C:\\Users\\Aspire_Lays\\AppData\\Local\\Temp\\ipykernel_13328\\3583909566.py:5: SettingWithCopyWarning: \n",
      "A value is trying to be set on a copy of a slice from a DataFrame.\n",
      "Try using .loc[row_indexer,col_indexer] = value instead\n",
      "\n",
      "See the caveats in the documentation: https://pandas.pydata.org/pandas-docs/stable/user_guide/indexing.html#returning-a-view-versus-a-copy\n",
      "  df[\"sentiment\"] = encoder.fit_transform(df[\"sentiment\"])\n"
     ]
    }
   ],
   "source": [
    "df_org = pd.read_csv(\"train.csv\",encoding=\"latin1\")\n",
    "df = df_org[[\"selected_text\",\"sentiment\"]]\n",
    "from sklearn.preprocessing import LabelEncoder\n",
    "encoder = LabelEncoder()\n",
    "df[\"sentiment\"] = encoder.fit_transform(df[\"sentiment\"])"
   ]
  },
  {
   "cell_type": "code",
   "execution_count": 6,
   "metadata": {},
   "outputs": [],
   "source": [
    "# Split dataset\n",
    "X_train, X_test, y_train, y_test = train_test_split(df[\"selected_text\"], df[\"sentiment\"], test_size=0.2, random_state=42)\n",
    "\n",
    "# Tokenization\n",
    "tokenizer = Tokenizer(num_words=5000, oov_token=\"<OOV>\")  # Use top 5000 words, mark unknown words as <OOV>\n",
    "tokenizer.fit_on_texts(X_train)\n",
    "\n",
    "# Convert text to sequences\n",
    "X_train_seq = tokenizer.texts_to_sequences(X_train)\n",
    "X_test_seq = tokenizer.texts_to_sequences(X_test)\n",
    "\n",
    "# Padding sequences to equal length\n",
    "max_length = max(len(seq) for seq in X_train_seq)\n",
    "X_train_padded = pad_sequences(X_train_seq, maxlen=max_length, padding=\"post\")\n",
    "X_test_padded = pad_sequences(X_test_seq, maxlen=max_length, padding=\"post\")"
   ]
  },
  {
   "cell_type": "code",
   "execution_count": 7,
   "metadata": {},
   "outputs": [
    {
     "name": "stdout",
     "output_type": "stream",
     "text": [
      "Epoch 1/10\n",
      "10992/10992 [==============================] - 88s 8ms/step - loss: -7.0674 - accuracy: 0.4043 - val_loss: -17.4234 - val_accuracy: 0.4057\n",
      "Epoch 2/10\n",
      "10992/10992 [==============================] - 87s 8ms/step - loss: -38.2716 - accuracy: 0.4043 - val_loss: -55.0097 - val_accuracy: 0.4057\n",
      "Epoch 3/10\n",
      "10992/10992 [==============================] - 88s 8ms/step - loss: -82.9863 - accuracy: 0.4043 - val_loss: -101.7079 - val_accuracy: 0.4057\n",
      "Epoch 4/10\n",
      "10992/10992 [==============================] - 91s 8ms/step - loss: -146.6309 - accuracy: 0.4043 - val_loss: -166.9619 - val_accuracy: 0.4057\n",
      "Epoch 5/10\n",
      "10992/10992 [==============================] - 89s 8ms/step - loss: -228.8760 - accuracy: 0.4043 - val_loss: -249.7553 - val_accuracy: 0.4057\n",
      "Epoch 6/10\n",
      "10992/10992 [==============================] - 92s 8ms/step - loss: -330.1341 - accuracy: 0.4043 - val_loss: -349.0474 - val_accuracy: 0.4057\n",
      "Epoch 7/10\n",
      "10992/10992 [==============================] - 91s 8ms/step - loss: -449.4839 - accuracy: 0.4043 - val_loss: -463.8369 - val_accuracy: 0.4057\n",
      "Epoch 8/10\n",
      "10992/10992 [==============================] - 91s 8ms/step - loss: -585.3912 - accuracy: 0.4043 - val_loss: -593.6976 - val_accuracy: 0.4057\n",
      "Epoch 9/10\n",
      "10992/10992 [==============================] - 92s 8ms/step - loss: -738.9737 - accuracy: 0.4043 - val_loss: -741.2007 - val_accuracy: 0.4057\n",
      "Epoch 10/10\n",
      "10992/10992 [==============================] - 91s 8ms/step - loss: -911.0948 - accuracy: 0.4043 - val_loss: -902.9243 - val_accuracy: 0.4057\n"
     ]
    },
    {
     "data": {
      "text/plain": [
       "<keras.callbacks.History at 0x1d4e6d4cc10>"
      ]
     },
     "execution_count": 7,
     "metadata": {},
     "output_type": "execute_result"
    }
   ],
   "source": [
    "# Define RNN model\n",
    "model = Sequential([\n",
    "    Embedding(input_dim=5000, output_dim=64, input_length=max_length),  # Word embeddings\n",
    "    SimpleRNN(64, return_sequences=False),  # RNN layer\n",
    "    Dense(32, activation=\"relu\"),  # Fully connected layer\n",
    "    Dense(1, activation=\"sigmoid\")  # Output layer (binary classification)\n",
    "])\n",
    "\n",
    "# Compile the model\n",
    "model.compile(optimizer=\"adam\", loss=\"binary_crossentropy\", metrics=[\"accuracy\"])\n",
    "\n",
    "# Train the model\n",
    "model.fit(X_train_padded, np.array(y_train), epochs=10, batch_size=2, validation_data=(X_test_padded, np.array(y_test)))\n"
   ]
  },
  {
   "cell_type": "code",
   "execution_count": 8,
   "metadata": {},
   "outputs": [
    {
     "name": "stdout",
     "output_type": "stream",
     "text": [
      "172/172 [==============================] - 1s 2ms/step\n",
      "              precision    recall  f1-score   support\n",
      "\n",
      "           0       0.00      0.00      0.00      1562\n",
      "           1       0.41      1.00      0.58      2230\n",
      "           2       0.00      0.00      0.00      1705\n",
      "\n",
      "    accuracy                           0.41      5497\n",
      "   macro avg       0.14      0.33      0.19      5497\n",
      "weighted avg       0.16      0.41      0.23      5497\n",
      "\n"
     ]
    },
    {
     "name": "stderr",
     "output_type": "stream",
     "text": [
      "c:\\Users\\Aspire_Lays\\anaconda3\\envs\\ai\\Lib\\site-packages\\sklearn\\metrics\\_classification.py:1344: UndefinedMetricWarning: Precision and F-score are ill-defined and being set to 0.0 in labels with no predicted samples. Use `zero_division` parameter to control this behavior.\n",
      "  _warn_prf(average, modifier, msg_start, len(result))\n",
      "c:\\Users\\Aspire_Lays\\anaconda3\\envs\\ai\\Lib\\site-packages\\sklearn\\metrics\\_classification.py:1344: UndefinedMetricWarning: Precision and F-score are ill-defined and being set to 0.0 in labels with no predicted samples. Use `zero_division` parameter to control this behavior.\n",
      "  _warn_prf(average, modifier, msg_start, len(result))\n",
      "c:\\Users\\Aspire_Lays\\anaconda3\\envs\\ai\\Lib\\site-packages\\sklearn\\metrics\\_classification.py:1344: UndefinedMetricWarning: Precision and F-score are ill-defined and being set to 0.0 in labels with no predicted samples. Use `zero_division` parameter to control this behavior.\n",
      "  _warn_prf(average, modifier, msg_start, len(result))\n"
     ]
    }
   ],
   "source": [
    "# Predict on test data\n",
    "y_pred = (model.predict(X_test_padded) > 0.5).astype(\"int32\")\n",
    "\n",
    "# Print classification report\n",
    "print(classification_report(y_test, y_pred))\n"
   ]
  },
  {
   "cell_type": "code",
   "execution_count": 10,
   "metadata": {},
   "outputs": [
    {
     "name": "stdout",
     "output_type": "stream",
     "text": [
      "0.405675823176278\n"
     ]
    }
   ],
   "source": [
    "print(accuracy_score(y_test,y_pred))"
   ]
  },
  {
   "cell_type": "code",
   "execution_count": null,
   "metadata": {},
   "outputs": [],
   "source": []
  }
 ],
 "metadata": {
  "kernelspec": {
   "display_name": "ai",
   "language": "python",
   "name": "python3"
  },
  "language_info": {
   "codemirror_mode": {
    "name": "ipython",
    "version": 3
   },
   "file_extension": ".py",
   "mimetype": "text/x-python",
   "name": "python",
   "nbconvert_exporter": "python",
   "pygments_lexer": "ipython3",
   "version": "3.11.5"
  }
 },
 "nbformat": 4,
 "nbformat_minor": 2
}
